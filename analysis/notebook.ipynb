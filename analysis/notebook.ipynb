{
 "cells": [
  {
   "cell_type": "code",
   "execution_count": 1,
   "metadata": {},
   "outputs": [],
   "source": [
    "import pandas as pd"
   ]
  },
  {
   "cell_type": "code",
   "execution_count": 2,
   "metadata": {},
   "outputs": [],
   "source": [
    "df = pd.read_csv(\"../data/transactions.csv\")"
   ]
  },
  {
   "cell_type": "code",
   "execution_count": 3,
   "metadata": {},
   "outputs": [
    {
     "data": {
      "text/html": [
       "<div>\n",
       "<style scoped>\n",
       "    .dataframe tbody tr th:only-of-type {\n",
       "        vertical-align: middle;\n",
       "    }\n",
       "\n",
       "    .dataframe tbody tr th {\n",
       "        vertical-align: top;\n",
       "    }\n",
       "\n",
       "    .dataframe thead th {\n",
       "        text-align: right;\n",
       "    }\n",
       "</style>\n",
       "<table border=\"1\" class=\"dataframe\">\n",
       "  <thead>\n",
       "    <tr style=\"text-align: right;\">\n",
       "      <th></th>\n",
       "      <th>Unnamed: 0</th>\n",
       "      <th>Transaction Date</th>\n",
       "      <th>Description</th>\n",
       "      <th>Ref No./Cheque No</th>\n",
       "      <th>Debit</th>\n",
       "      <th>Credit</th>\n",
       "      <th>Balance</th>\n",
       "    </tr>\n",
       "  </thead>\n",
       "  <tbody>\n",
       "    <tr>\n",
       "      <th>0</th>\n",
       "      <td>1</td>\n",
       "      <td>2022-05-01 00:00:00</td>\n",
       "      <td>TO TRANSFER-UPI/DR/212184145933/NAIVEDYA/PY...</td>\n",
       "      <td>TRANSFER TO 4692675162099</td>\n",
       "      <td>30.0</td>\n",
       "      <td>0.0</td>\n",
       "      <td>1,655.78</td>\n",
       "    </tr>\n",
       "    <tr>\n",
       "      <th>1</th>\n",
       "      <td>2</td>\n",
       "      <td>2022-05-01 00:00:00</td>\n",
       "      <td>TO TRANSFER-UPI/DR/212176631177/NAIVEDYA/PY...</td>\n",
       "      <td>TRANSFER TO 4692666162090</td>\n",
       "      <td>10.0</td>\n",
       "      <td>0.0</td>\n",
       "      <td>1,645.78</td>\n",
       "    </tr>\n",
       "    <tr>\n",
       "      <th>2</th>\n",
       "      <td>3</td>\n",
       "      <td>2022-05-02 00:00:00</td>\n",
       "      <td>TO TRANSFER-UPI/DR/212298919584/Zerodha/ICI...</td>\n",
       "      <td>TRANSFER TO 5097543162099</td>\n",
       "      <td>273.0</td>\n",
       "      <td>0.0</td>\n",
       "      <td>1,372.78</td>\n",
       "    </tr>\n",
       "  </tbody>\n",
       "</table>\n",
       "</div>"
      ],
      "text/plain": [
       "   Unnamed: 0     Transaction Date  \\\n",
       "0           1  2022-05-01 00:00:00   \n",
       "1           2  2022-05-01 00:00:00   \n",
       "2           3  2022-05-02 00:00:00   \n",
       "\n",
       "                                         Description  \\\n",
       "0     TO TRANSFER-UPI/DR/212184145933/NAIVEDYA/PY...   \n",
       "1     TO TRANSFER-UPI/DR/212176631177/NAIVEDYA/PY...   \n",
       "2     TO TRANSFER-UPI/DR/212298919584/Zerodha/ICI...   \n",
       "\n",
       "           Ref No./Cheque No  Debit  Credit   Balance  \n",
       "0  TRANSFER TO 4692675162099   30.0     0.0  1,655.78  \n",
       "1  TRANSFER TO 4692666162090   10.0     0.0  1,645.78  \n",
       "2  TRANSFER TO 5097543162099  273.0     0.0  1,372.78  "
      ]
     },
     "execution_count": 3,
     "metadata": {},
     "output_type": "execute_result"
    }
   ],
   "source": [
    "df.head(3)"
   ]
  },
  {
   "cell_type": "code",
   "execution_count": 4,
   "metadata": {},
   "outputs": [
    {
     "data": {
      "text/plain": [
       "(53, 7)"
      ]
     },
     "execution_count": 4,
     "metadata": {},
     "output_type": "execute_result"
    }
   ],
   "source": [
    "df.shape"
   ]
  },
  {
   "cell_type": "code",
   "execution_count": null,
   "metadata": {},
   "outputs": [],
   "source": []
  },
  {
   "cell_type": "code",
   "execution_count": null,
   "metadata": {},
   "outputs": [],
   "source": []
  }
 ],
 "metadata": {
  "kernelspec": {
   "display_name": "Python 3",
   "language": "python",
   "name": "python3"
  },
  "language_info": {
   "codemirror_mode": {
    "name": "ipython",
    "version": 3
   },
   "file_extension": ".py",
   "mimetype": "text/x-python",
   "name": "python",
   "nbconvert_exporter": "python",
   "pygments_lexer": "ipython3",
   "version": "3.9.6"
  }
 },
 "nbformat": 4,
 "nbformat_minor": 2
}
