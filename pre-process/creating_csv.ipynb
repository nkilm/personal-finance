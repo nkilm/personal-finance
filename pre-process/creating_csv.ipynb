{
 "cells": [
  {
   "cell_type": "code",
   "execution_count": 66,
   "metadata": {},
   "outputs": [],
   "source": [
    "import pandas as pd"
   ]
  },
  {
   "cell_type": "code",
   "execution_count": 67,
   "metadata": {},
   "outputs": [],
   "source": [
    "data = pd.read_excel(\"./data/transactions.xlsx\")\n",
    "\n",
    "df = pd.DataFrame(data)"
   ]
  },
  {
   "cell_type": "code",
   "execution_count": 68,
   "metadata": {},
   "outputs": [
    {
     "data": {
      "text/html": [
       "<div>\n",
       "<style scoped>\n",
       "    .dataframe tbody tr th:only-of-type {\n",
       "        vertical-align: middle;\n",
       "    }\n",
       "\n",
       "    .dataframe tbody tr th {\n",
       "        vertical-align: top;\n",
       "    }\n",
       "\n",
       "    .dataframe thead th {\n",
       "        text-align: right;\n",
       "    }\n",
       "</style>\n",
       "<table border=\"1\" class=\"dataframe\">\n",
       "  <thead>\n",
       "    <tr style=\"text-align: right;\">\n",
       "      <th>index</th>\n",
       "      <th>Transaction Date</th>\n",
       "      <th>Description</th>\n",
       "      <th>Ref No./Cheque No</th>\n",
       "      <th>Debit</th>\n",
       "      <th>Credit</th>\n",
       "      <th>Balance</th>\n",
       "    </tr>\n",
       "  </thead>\n",
       "  <tbody>\n",
       "    <tr>\n",
       "      <th>1</th>\n",
       "      <td>2022-05-01 00:00:00</td>\n",
       "      <td>TO TRANSFER-UPI/DR/212184145933/NAIVEDYA/PY...</td>\n",
       "      <td>TRANSFER TO 4692675162099</td>\n",
       "      <td>30.00</td>\n",
       "      <td></td>\n",
       "      <td>1,655.78</td>\n",
       "    </tr>\n",
       "    <tr>\n",
       "      <th>2</th>\n",
       "      <td>2022-05-01 00:00:00</td>\n",
       "      <td>TO TRANSFER-UPI/DR/212176631177/NAIVEDYA/PY...</td>\n",
       "      <td>TRANSFER TO 4692666162090</td>\n",
       "      <td>10.00</td>\n",
       "      <td></td>\n",
       "      <td>1,645.78</td>\n",
       "    </tr>\n",
       "    <tr>\n",
       "      <th>3</th>\n",
       "      <td>2022-05-02 00:00:00</td>\n",
       "      <td>TO TRANSFER-UPI/DR/212298919584/Zerodha/ICI...</td>\n",
       "      <td>TRANSFER TO 5097543162099</td>\n",
       "      <td>273.00</td>\n",
       "      <td></td>\n",
       "      <td>1,372.78</td>\n",
       "    </tr>\n",
       "    <tr>\n",
       "      <th>4</th>\n",
       "      <td>2022-05-02 00:00:00</td>\n",
       "      <td>TO TRANSFER-UPI/DR/212233041527/SATISH G/CN...</td>\n",
       "      <td>TRANSFER TO 5099347162098</td>\n",
       "      <td>55.00</td>\n",
       "      <td></td>\n",
       "      <td>1,317.78</td>\n",
       "    </tr>\n",
       "    <tr>\n",
       "      <th>5</th>\n",
       "      <td>2022-05-02 00:00:00</td>\n",
       "      <td>TO TRANSFER-UPI/DR/212239795938/NAIVEDYA/PY...</td>\n",
       "      <td>TRANSFER TO 4692423162097</td>\n",
       "      <td>10.00</td>\n",
       "      <td></td>\n",
       "      <td>1,307.78</td>\n",
       "    </tr>\n",
       "  </tbody>\n",
       "</table>\n",
       "</div>"
      ],
      "text/plain": [
       "index     Transaction Date                                        Description  \\\n",
       "1      2022-05-01 00:00:00     TO TRANSFER-UPI/DR/212184145933/NAIVEDYA/PY...   \n",
       "2      2022-05-01 00:00:00     TO TRANSFER-UPI/DR/212176631177/NAIVEDYA/PY...   \n",
       "3      2022-05-02 00:00:00     TO TRANSFER-UPI/DR/212298919584/Zerodha/ICI...   \n",
       "4      2022-05-02 00:00:00     TO TRANSFER-UPI/DR/212233041527/SATISH G/CN...   \n",
       "5      2022-05-02 00:00:00     TO TRANSFER-UPI/DR/212239795938/NAIVEDYA/PY...   \n",
       "\n",
       "index          Ref No./Cheque No   Debit Credit   Balance  \n",
       "1      TRANSFER TO 4692675162099   30.00         1,655.78  \n",
       "2      TRANSFER TO 4692666162090   10.00         1,645.78  \n",
       "3      TRANSFER TO 5097543162099  273.00         1,372.78  \n",
       "4      TRANSFER TO 5099347162098   55.00         1,317.78  \n",
       "5      TRANSFER TO 4692423162097   10.00         1,307.78  "
      ]
     },
     "execution_count": 68,
     "metadata": {},
     "output_type": "execute_result"
    }
   ],
   "source": [
    "\n",
    "df.drop(df.index[:18],axis=0,inplace=True)\n",
    "\n",
    "df.columns = [\"Transaction Date\", \"Value Date\", \"Description\", \"Ref No./Cheque No\",\"Debit\",\"Credit\",\"Balance\"]\n",
    "\n",
    "df = df.reset_index()\n",
    "df.drop(columns=[\"index\"],inplace=True)\n",
    "df.drop(df.index[0],axis=0,inplace=True)\n",
    "df.drop(\"Value Date\",axis=1,inplace=True)\n",
    "df.columns.name = \"index\"\n",
    "df.head(5)\n"
   ]
  },
  {
   "cell_type": "code",
   "execution_count": 69,
   "metadata": {},
   "outputs": [
    {
     "data": {
      "text/plain": [
       "Index(['Transaction Date', 'Description', 'Ref No./Cheque No', 'Debit',\n",
       "       'Credit', 'Balance'],\n",
       "      dtype='object', name='index')"
      ]
     },
     "execution_count": 69,
     "metadata": {},
     "output_type": "execute_result"
    }
   ],
   "source": [
    "df.columns"
   ]
  },
  {
   "cell_type": "markdown",
   "metadata": {},
   "source": [
    "## Cleaning"
   ]
  },
  {
   "cell_type": "code",
   "execution_count": 70,
   "metadata": {},
   "outputs": [],
   "source": [
    "df.dropna(inplace=True)\n",
    "\n",
    "df[\"Debit\"] = [float(str(i).replace(\",\", \"\").replace(\" \",\"0\")) for i in df[\"Debit\"]] # 1,000.00 to 1000.00\n",
    "df[\"Credit\"] = [float(str(i).replace(\",\", \"\").replace(\" \",\"0\")) for i in df[\"Credit\"]] # 1,000.00 to 1000.00"
   ]
  },
  {
   "cell_type": "code",
   "execution_count": 71,
   "metadata": {},
   "outputs": [],
   "source": [
    "debits = df[\"Debit\"].tolist()\n",
    "credits = df[\"Credit\"].tolist()"
   ]
  },
  {
   "cell_type": "code",
   "execution_count": 72,
   "metadata": {},
   "outputs": [
    {
     "name": "stdout",
     "output_type": "stream",
     "text": [
      "Total Debit: 4771.0\n",
      "Total Credit: 28575.0\n"
     ]
    }
   ],
   "source": [
    "print(f\"Total Debit: {sum(debits)}\\nTotal Credit: {sum(credits)}\")"
   ]
  },
  {
   "cell_type": "code",
   "execution_count": 73,
   "metadata": {},
   "outputs": [],
   "source": [
    "# df.to_csv(\"../data/transactions.csv\",encoding=\"utf-8\")"
   ]
  },
  {
   "cell_type": "code",
   "execution_count": null,
   "metadata": {},
   "outputs": [],
   "source": []
  }
 ],
 "metadata": {
  "interpreter": {
   "hash": "0dd09ddda8b8fe5326d8e5d1993c9c7cdb3a36b91215994d4755fcef5cbd6d63"
  },
  "kernelspec": {
   "display_name": "Python 3",
   "language": "python",
   "name": "python3"
  },
  "language_info": {
   "codemirror_mode": {
    "name": "ipython",
    "version": 3
   },
   "file_extension": ".py",
   "mimetype": "text/x-python",
   "name": "python",
   "nbconvert_exporter": "python",
   "pygments_lexer": "ipython3",
   "version": "3.10.2"
  }
 },
 "nbformat": 4,
 "nbformat_minor": 2
}
